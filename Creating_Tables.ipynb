{
 "cells": [
  {
   "cell_type": "code",
   "execution_count": 1,
   "metadata": {},
   "outputs": [],
   "source": [
    "import pandas as pd\n",
    "from sqlalchemy import create_engine"
   ]
  },
  {
   "cell_type": "code",
   "execution_count": 2,
   "metadata": {},
   "outputs": [],
   "source": [
    "# Example: SQLite (change this to your DB)\n",
    "engine = create_engine(\"sqlite:///mydatabase.db\")  "
   ]
  },
  {
   "cell_type": "code",
   "execution_count": 3,
   "metadata": {},
   "outputs": [],
   "source": [
    "# Load CSV files into DataFrames\n",
    "df1 = pd.read_csv(\"accounts.csv\")\n",
    "df2 = pd.read_csv(\"products.csv\")\n",
    "df3 = pd.read_csv(\"sales_pipeline.csv\")\n",
    "df4 = pd.read_csv(\"sales_teams.csv\")"
   ]
  },
  {
   "cell_type": "code",
   "execution_count": 4,
   "metadata": {},
   "outputs": [
    {
     "data": {
      "text/html": [
       "<div>\n",
       "<style scoped>\n",
       "    .dataframe tbody tr th:only-of-type {\n",
       "        vertical-align: middle;\n",
       "    }\n",
       "\n",
       "    .dataframe tbody tr th {\n",
       "        vertical-align: top;\n",
       "    }\n",
       "\n",
       "    .dataframe thead th {\n",
       "        text-align: right;\n",
       "    }\n",
       "</style>\n",
       "<table border=\"1\" class=\"dataframe\">\n",
       "  <thead>\n",
       "    <tr style=\"text-align: right;\">\n",
       "      <th></th>\n",
       "      <th>account</th>\n",
       "      <th>sector</th>\n",
       "      <th>year_established</th>\n",
       "      <th>revenue</th>\n",
       "      <th>employees</th>\n",
       "      <th>office_location</th>\n",
       "      <th>subsidiary_of</th>\n",
       "    </tr>\n",
       "  </thead>\n",
       "  <tbody>\n",
       "    <tr>\n",
       "      <th>60</th>\n",
       "      <td>Scotfind</td>\n",
       "      <td>software</td>\n",
       "      <td>1996</td>\n",
       "      <td>6354.87</td>\n",
       "      <td>16780</td>\n",
       "      <td>United States</td>\n",
       "      <td>Bubba Gump</td>\n",
       "    </tr>\n",
       "    <tr>\n",
       "      <th>37</th>\n",
       "      <td>Inity</td>\n",
       "      <td>marketing</td>\n",
       "      <td>1986</td>\n",
       "      <td>2403.58</td>\n",
       "      <td>8801</td>\n",
       "      <td>United States</td>\n",
       "      <td>NaN</td>\n",
       "    </tr>\n",
       "    <tr>\n",
       "      <th>79</th>\n",
       "      <td>Yearin</td>\n",
       "      <td>retail</td>\n",
       "      <td>2005</td>\n",
       "      <td>2261.05</td>\n",
       "      <td>3851</td>\n",
       "      <td>United States</td>\n",
       "      <td>NaN</td>\n",
       "    </tr>\n",
       "    <tr>\n",
       "      <th>61</th>\n",
       "      <td>Scottech</td>\n",
       "      <td>marketing</td>\n",
       "      <td>2012</td>\n",
       "      <td>45.39</td>\n",
       "      <td>100</td>\n",
       "      <td>United States</td>\n",
       "      <td>Inity</td>\n",
       "    </tr>\n",
       "    <tr>\n",
       "      <th>70</th>\n",
       "      <td>The New York Inquirer</td>\n",
       "      <td>medical</td>\n",
       "      <td>1996</td>\n",
       "      <td>439.21</td>\n",
       "      <td>792</td>\n",
       "      <td>United States</td>\n",
       "      <td>NaN</td>\n",
       "    </tr>\n",
       "  </tbody>\n",
       "</table>\n",
       "</div>"
      ],
      "text/plain": [
       "                  account     sector  year_established  revenue  employees  \\\n",
       "60               Scotfind   software              1996  6354.87      16780   \n",
       "37                  Inity  marketing              1986  2403.58       8801   \n",
       "79                 Yearin     retail              2005  2261.05       3851   \n",
       "61               Scottech  marketing              2012    45.39        100   \n",
       "70  The New York Inquirer    medical              1996   439.21        792   \n",
       "\n",
       "   office_location subsidiary_of  \n",
       "60   United States    Bubba Gump  \n",
       "37   United States           NaN  \n",
       "79   United States           NaN  \n",
       "61   United States         Inity  \n",
       "70   United States           NaN  "
      ]
     },
     "execution_count": 4,
     "metadata": {},
     "output_type": "execute_result"
    }
   ],
   "source": [
    "df1.sample(5) "
   ]
  },
  {
   "cell_type": "code",
   "execution_count": 5,
   "metadata": {},
   "outputs": [
    {
     "data": {
      "text/html": [
       "<div>\n",
       "<style scoped>\n",
       "    .dataframe tbody tr th:only-of-type {\n",
       "        vertical-align: middle;\n",
       "    }\n",
       "\n",
       "    .dataframe tbody tr th {\n",
       "        vertical-align: top;\n",
       "    }\n",
       "\n",
       "    .dataframe thead th {\n",
       "        text-align: right;\n",
       "    }\n",
       "</style>\n",
       "<table border=\"1\" class=\"dataframe\">\n",
       "  <thead>\n",
       "    <tr style=\"text-align: right;\">\n",
       "      <th></th>\n",
       "      <th>product</th>\n",
       "      <th>series</th>\n",
       "      <th>sales_price</th>\n",
       "    </tr>\n",
       "  </thead>\n",
       "  <tbody>\n",
       "    <tr>\n",
       "      <th>3</th>\n",
       "      <td>MG Advanced</td>\n",
       "      <td>MG</td>\n",
       "      <td>3393</td>\n",
       "    </tr>\n",
       "    <tr>\n",
       "      <th>1</th>\n",
       "      <td>GTX Pro</td>\n",
       "      <td>GTX</td>\n",
       "      <td>4821</td>\n",
       "    </tr>\n",
       "    <tr>\n",
       "      <th>5</th>\n",
       "      <td>GTX Plus Basic</td>\n",
       "      <td>GTX</td>\n",
       "      <td>1096</td>\n",
       "    </tr>\n",
       "    <tr>\n",
       "      <th>4</th>\n",
       "      <td>GTX Plus Pro</td>\n",
       "      <td>GTX</td>\n",
       "      <td>5482</td>\n",
       "    </tr>\n",
       "    <tr>\n",
       "      <th>6</th>\n",
       "      <td>GTK 500</td>\n",
       "      <td>GTK</td>\n",
       "      <td>26768</td>\n",
       "    </tr>\n",
       "  </tbody>\n",
       "</table>\n",
       "</div>"
      ],
      "text/plain": [
       "          product series  sales_price\n",
       "3     MG Advanced     MG         3393\n",
       "1         GTX Pro    GTX         4821\n",
       "5  GTX Plus Basic    GTX         1096\n",
       "4    GTX Plus Pro    GTX         5482\n",
       "6         GTK 500    GTK        26768"
      ]
     },
     "execution_count": 5,
     "metadata": {},
     "output_type": "execute_result"
    }
   ],
   "source": [
    "df2.sample(5)"
   ]
  },
  {
   "cell_type": "code",
   "execution_count": 6,
   "metadata": {},
   "outputs": [
    {
     "data": {
      "text/html": [
       "<div>\n",
       "<style scoped>\n",
       "    .dataframe tbody tr th:only-of-type {\n",
       "        vertical-align: middle;\n",
       "    }\n",
       "\n",
       "    .dataframe tbody tr th {\n",
       "        vertical-align: top;\n",
       "    }\n",
       "\n",
       "    .dataframe thead th {\n",
       "        text-align: right;\n",
       "    }\n",
       "</style>\n",
       "<table border=\"1\" class=\"dataframe\">\n",
       "  <thead>\n",
       "    <tr style=\"text-align: right;\">\n",
       "      <th></th>\n",
       "      <th>opportunity_id</th>\n",
       "      <th>sales_agent</th>\n",
       "      <th>product</th>\n",
       "      <th>account</th>\n",
       "      <th>deal_stage</th>\n",
       "      <th>engage_date</th>\n",
       "      <th>close_date</th>\n",
       "      <th>close_value</th>\n",
       "    </tr>\n",
       "  </thead>\n",
       "  <tbody>\n",
       "    <tr>\n",
       "      <th>3061</th>\n",
       "      <td>Q9GJ1LJT</td>\n",
       "      <td>Daniell Hammack</td>\n",
       "      <td>MG Advanced</td>\n",
       "      <td>Plussunin</td>\n",
       "      <td>Lost</td>\n",
       "      <td>2017-05-10</td>\n",
       "      <td>2017-09-03</td>\n",
       "      <td>0.0</td>\n",
       "    </tr>\n",
       "    <tr>\n",
       "      <th>1033</th>\n",
       "      <td>ERYLM04D</td>\n",
       "      <td>Cecily Lampkin</td>\n",
       "      <td>MG Advanced</td>\n",
       "      <td>Funholding</td>\n",
       "      <td>Won</td>\n",
       "      <td>2017-02-23</td>\n",
       "      <td>2017-05-23</td>\n",
       "      <td>3668.0</td>\n",
       "    </tr>\n",
       "    <tr>\n",
       "      <th>3045</th>\n",
       "      <td>Q0MRZHN7</td>\n",
       "      <td>Maureen Marcano</td>\n",
       "      <td>MG Special</td>\n",
       "      <td>Konex</td>\n",
       "      <td>Won</td>\n",
       "      <td>2017-05-09</td>\n",
       "      <td>2017-05-12</td>\n",
       "      <td>57.0</td>\n",
       "    </tr>\n",
       "    <tr>\n",
       "      <th>2291</th>\n",
       "      <td>EUKD4Z0V</td>\n",
       "      <td>Reed Clapper</td>\n",
       "      <td>GTXPro</td>\n",
       "      <td>Plussunin</td>\n",
       "      <td>Lost</td>\n",
       "      <td>2017-04-10</td>\n",
       "      <td>2017-04-16</td>\n",
       "      <td>0.0</td>\n",
       "    </tr>\n",
       "    <tr>\n",
       "      <th>2688</th>\n",
       "      <td>GM6C1UK3</td>\n",
       "      <td>Lajuana Vencill</td>\n",
       "      <td>GTX Plus Pro</td>\n",
       "      <td>Streethex</td>\n",
       "      <td>Lost</td>\n",
       "      <td>2017-04-23</td>\n",
       "      <td>2017-05-02</td>\n",
       "      <td>0.0</td>\n",
       "    </tr>\n",
       "  </tbody>\n",
       "</table>\n",
       "</div>"
      ],
      "text/plain": [
       "     opportunity_id      sales_agent       product     account deal_stage  \\\n",
       "3061       Q9GJ1LJT  Daniell Hammack   MG Advanced   Plussunin       Lost   \n",
       "1033       ERYLM04D   Cecily Lampkin   MG Advanced  Funholding        Won   \n",
       "3045       Q0MRZHN7  Maureen Marcano    MG Special       Konex        Won   \n",
       "2291       EUKD4Z0V     Reed Clapper        GTXPro   Plussunin       Lost   \n",
       "2688       GM6C1UK3  Lajuana Vencill  GTX Plus Pro   Streethex       Lost   \n",
       "\n",
       "     engage_date  close_date  close_value  \n",
       "3061  2017-05-10  2017-09-03          0.0  \n",
       "1033  2017-02-23  2017-05-23       3668.0  \n",
       "3045  2017-05-09  2017-05-12         57.0  \n",
       "2291  2017-04-10  2017-04-16          0.0  \n",
       "2688  2017-04-23  2017-05-02          0.0  "
      ]
     },
     "execution_count": 6,
     "metadata": {},
     "output_type": "execute_result"
    }
   ],
   "source": [
    "df3.sample(5)"
   ]
  },
  {
   "cell_type": "code",
   "execution_count": 7,
   "metadata": {},
   "outputs": [
    {
     "data": {
      "text/plain": [
       "array(['Moses Frase', 'Darcel Schlecht', 'Zane Levy', 'Anna Snelling',\n",
       "       'Vicki Laflamme', 'Markita Hansen', 'Niesha Huffines',\n",
       "       'James Ascencio', 'Gladys Colclough', 'Maureen Marcano',\n",
       "       'Hayden Neloms', 'Rosalina Dieter', 'Versie Hillebrand',\n",
       "       'Daniell Hammack', 'Elease Gluck', 'Violet Mclelland',\n",
       "       'Kami Bicknell', 'Rosie Papadopoulos', 'Kary Hendrixson',\n",
       "       'Reed Clapper', 'Wilburn Farren', 'Garret Kinder',\n",
       "       'Marty Freudenburg', 'Cassey Cress', 'Lajuana Vencill',\n",
       "       'Boris Faz', 'Donn Cantrell', 'Corliss Cosme', 'Cecily Lampkin',\n",
       "       'Jonathan Berthelot'], dtype=object)"
      ]
     },
     "execution_count": 7,
     "metadata": {},
     "output_type": "execute_result"
    }
   ],
   "source": [
    "df3['sales_agent'].unique()"
   ]
  },
  {
   "cell_type": "code",
   "execution_count": 8,
   "metadata": {},
   "outputs": [
    {
     "data": {
      "text/plain": [
       "sales_agent\n",
       "Anna Snelling          275056.0\n",
       "Boris Faz              261631.0\n",
       "Cassey Cress           450489.0\n",
       "Cecily Lampkin         229800.0\n",
       "Corliss Cosme          421036.0\n",
       "Daniell Hammack        364229.0\n",
       "Darcel Schlecht       1153214.0\n",
       "Donn Cantrell          445860.0\n",
       "Elease Gluck           289195.0\n",
       "Garret Kinder          197773.0\n",
       "Gladys Colclough       345674.0\n",
       "Hayden Neloms          272111.0\n",
       "James Ascencio         413533.0\n",
       "Jonathan Berthelot     284886.0\n",
       "Kami Bicknell          316456.0\n",
       "Kary Hendrixson        454298.0\n",
       "Lajuana Vencill        194632.0\n",
       "Markita Hansen         328792.0\n",
       "Marty Freudenburg      291195.0\n",
       "Maureen Marcano        350395.0\n",
       "Moses Frase            207182.0\n",
       "Niesha Huffines        176961.0\n",
       "Reed Clapper           438336.0\n",
       "Rosalina Dieter        235403.0\n",
       "Rosie Papadopoulos     230169.0\n",
       "Versie Hillebrand      187693.0\n",
       "Vicki Laflamme         478396.0\n",
       "Violet Mclelland       123431.0\n",
       "Wilburn Farren         157640.0\n",
       "Zane Levy              430068.0\n",
       "Name: close_value, dtype: float64"
      ]
     },
     "execution_count": 8,
     "metadata": {},
     "output_type": "execute_result"
    }
   ],
   "source": [
    "df3.groupby(['sales_agent'])['close_value'].sum()"
   ]
  },
  {
   "cell_type": "code",
   "execution_count": 9,
   "metadata": {},
   "outputs": [
    {
     "data": {
      "text/html": [
       "<div>\n",
       "<style scoped>\n",
       "    .dataframe tbody tr th:only-of-type {\n",
       "        vertical-align: middle;\n",
       "    }\n",
       "\n",
       "    .dataframe tbody tr th {\n",
       "        vertical-align: top;\n",
       "    }\n",
       "\n",
       "    .dataframe thead th {\n",
       "        text-align: right;\n",
       "    }\n",
       "</style>\n",
       "<table border=\"1\" class=\"dataframe\">\n",
       "  <thead>\n",
       "    <tr style=\"text-align: right;\">\n",
       "      <th></th>\n",
       "      <th>sales_agent</th>\n",
       "      <th>manager</th>\n",
       "      <th>regional_office</th>\n",
       "    </tr>\n",
       "  </thead>\n",
       "  <tbody>\n",
       "    <tr>\n",
       "      <th>26</th>\n",
       "      <td>Markita Hansen</td>\n",
       "      <td>Celia Rouche</td>\n",
       "      <td>West</td>\n",
       "    </tr>\n",
       "    <tr>\n",
       "      <th>18</th>\n",
       "      <td>Cassey Cress</td>\n",
       "      <td>Rocco Neubert</td>\n",
       "      <td>East</td>\n",
       "    </tr>\n",
       "    <tr>\n",
       "      <th>6</th>\n",
       "      <td>Marty Freudenburg</td>\n",
       "      <td>Melvin Marxen</td>\n",
       "      <td>Central</td>\n",
       "    </tr>\n",
       "    <tr>\n",
       "      <th>23</th>\n",
       "      <td>Vicki Laflamme</td>\n",
       "      <td>Celia Rouche</td>\n",
       "      <td>West</td>\n",
       "    </tr>\n",
       "    <tr>\n",
       "      <th>17</th>\n",
       "      <td>Daniell Hammack</td>\n",
       "      <td>Rocco Neubert</td>\n",
       "      <td>East</td>\n",
       "    </tr>\n",
       "  </tbody>\n",
       "</table>\n",
       "</div>"
      ],
      "text/plain": [
       "          sales_agent        manager regional_office\n",
       "26     Markita Hansen   Celia Rouche            West\n",
       "18       Cassey Cress  Rocco Neubert            East\n",
       "6   Marty Freudenburg  Melvin Marxen         Central\n",
       "23     Vicki Laflamme   Celia Rouche            West\n",
       "17    Daniell Hammack  Rocco Neubert            East"
      ]
     },
     "execution_count": 9,
     "metadata": {},
     "output_type": "execute_result"
    }
   ],
   "source": [
    "df4.sample(5)"
   ]
  },
  {
   "cell_type": "code",
   "execution_count": 10,
   "metadata": {},
   "outputs": [
    {
     "data": {
      "text/plain": [
       "1153214.0"
      ]
     },
     "execution_count": 10,
     "metadata": {},
     "output_type": "execute_result"
    }
   ],
   "source": [
    "df3[(df3['sales_agent']=='Darcel Schlecht') & (df3['deal_stage']=='Won')]['close_value'].sum()"
   ]
  },
  {
   "cell_type": "code",
   "execution_count": 11,
   "metadata": {},
   "outputs": [
    {
     "data": {
      "text/plain": [
       "349"
      ]
     },
     "execution_count": 11,
     "metadata": {},
     "output_type": "execute_result"
    }
   ],
   "source": [
    "df3[(df3['sales_agent']=='Darcel Schlecht') & (df3['deal_stage']=='Won')]['close_value'].count()"
   ]
  },
  {
   "cell_type": "code",
   "execution_count": 12,
   "metadata": {},
   "outputs": [
    {
     "data": {
      "text/plain": [
       "3304.3381088825213"
      ]
     },
     "execution_count": 12,
     "metadata": {},
     "output_type": "execute_result"
    }
   ],
   "source": [
    "df3[(df3['sales_agent']=='Darcel Schlecht') & (df3['deal_stage']=='Won')]['close_value'].sum()/df3[(df3['sales_agent']=='Darcel Schlecht') & (df3['deal_stage']=='Won')]['close_value'].count()"
   ]
  },
  {
   "cell_type": "code",
   "execution_count": 16,
   "metadata": {},
   "outputs": [
    {
     "data": {
      "text/plain": [
       "2085.3779385171792"
      ]
     },
     "execution_count": 16,
     "metadata": {},
     "output_type": "execute_result"
    }
   ],
   "source": [
    "df3[(df3['sales_agent']=='Darcel Schlecht')]['close_value'].sum()/df3[(df3['sales_agent']=='Darcel Schlecht')]['close_value'].count()"
   ]
  },
  {
   "cell_type": "code",
   "execution_count": 13,
   "metadata": {},
   "outputs": [
    {
     "data": {
      "text/html": [
       "<div>\n",
       "<style scoped>\n",
       "    .dataframe tbody tr th:only-of-type {\n",
       "        vertical-align: middle;\n",
       "    }\n",
       "\n",
       "    .dataframe tbody tr th {\n",
       "        vertical-align: top;\n",
       "    }\n",
       "\n",
       "    .dataframe thead th {\n",
       "        text-align: right;\n",
       "    }\n",
       "</style>\n",
       "<table border=\"1\" class=\"dataframe\">\n",
       "  <thead>\n",
       "    <tr style=\"text-align: right;\">\n",
       "      <th></th>\n",
       "      <th>Table</th>\n",
       "      <th>Field</th>\n",
       "      <th>Description</th>\n",
       "    </tr>\n",
       "  </thead>\n",
       "  <tbody>\n",
       "    <tr>\n",
       "      <th>0</th>\n",
       "      <td>accounts</td>\n",
       "      <td>account</td>\n",
       "      <td>Company name</td>\n",
       "    </tr>\n",
       "    <tr>\n",
       "      <th>1</th>\n",
       "      <td>accounts</td>\n",
       "      <td>sector</td>\n",
       "      <td>Industry</td>\n",
       "    </tr>\n",
       "    <tr>\n",
       "      <th>2</th>\n",
       "      <td>accounts</td>\n",
       "      <td>year_established</td>\n",
       "      <td>Year Established</td>\n",
       "    </tr>\n",
       "    <tr>\n",
       "      <th>3</th>\n",
       "      <td>accounts</td>\n",
       "      <td>revenue</td>\n",
       "      <td>Annual revenue (in millions of USD)</td>\n",
       "    </tr>\n",
       "    <tr>\n",
       "      <th>4</th>\n",
       "      <td>accounts</td>\n",
       "      <td>employees</td>\n",
       "      <td>Number of employees</td>\n",
       "    </tr>\n",
       "    <tr>\n",
       "      <th>5</th>\n",
       "      <td>accounts</td>\n",
       "      <td>office_location</td>\n",
       "      <td>Headquarters</td>\n",
       "    </tr>\n",
       "    <tr>\n",
       "      <th>6</th>\n",
       "      <td>accounts</td>\n",
       "      <td>subsidiary_of</td>\n",
       "      <td>Parent company</td>\n",
       "    </tr>\n",
       "    <tr>\n",
       "      <th>7</th>\n",
       "      <td>products</td>\n",
       "      <td>product</td>\n",
       "      <td>Product name</td>\n",
       "    </tr>\n",
       "    <tr>\n",
       "      <th>8</th>\n",
       "      <td>products</td>\n",
       "      <td>series</td>\n",
       "      <td>Product series</td>\n",
       "    </tr>\n",
       "    <tr>\n",
       "      <th>9</th>\n",
       "      <td>products</td>\n",
       "      <td>sales_price</td>\n",
       "      <td>Suggested retail price</td>\n",
       "    </tr>\n",
       "    <tr>\n",
       "      <th>10</th>\n",
       "      <td>sales_teams</td>\n",
       "      <td>sales_agent</td>\n",
       "      <td>Sales agent</td>\n",
       "    </tr>\n",
       "    <tr>\n",
       "      <th>11</th>\n",
       "      <td>sales_teams</td>\n",
       "      <td>manager</td>\n",
       "      <td>Respective sales manager</td>\n",
       "    </tr>\n",
       "    <tr>\n",
       "      <th>12</th>\n",
       "      <td>sales_teams</td>\n",
       "      <td>regional_office</td>\n",
       "      <td>Regional office</td>\n",
       "    </tr>\n",
       "    <tr>\n",
       "      <th>13</th>\n",
       "      <td>sales_pipeline</td>\n",
       "      <td>opportunity_id</td>\n",
       "      <td>Unique identifier</td>\n",
       "    </tr>\n",
       "    <tr>\n",
       "      <th>14</th>\n",
       "      <td>sales_pipeline</td>\n",
       "      <td>sales_agent</td>\n",
       "      <td>Sales agent</td>\n",
       "    </tr>\n",
       "    <tr>\n",
       "      <th>15</th>\n",
       "      <td>sales_pipeline</td>\n",
       "      <td>product</td>\n",
       "      <td>Product name</td>\n",
       "    </tr>\n",
       "    <tr>\n",
       "      <th>16</th>\n",
       "      <td>sales_pipeline</td>\n",
       "      <td>account</td>\n",
       "      <td>Company name</td>\n",
       "    </tr>\n",
       "    <tr>\n",
       "      <th>17</th>\n",
       "      <td>sales_pipeline</td>\n",
       "      <td>deal_stage</td>\n",
       "      <td>Sales pipeline stage (Prospecting &gt; Engaging &gt;...</td>\n",
       "    </tr>\n",
       "    <tr>\n",
       "      <th>18</th>\n",
       "      <td>sales_pipeline</td>\n",
       "      <td>engage_date</td>\n",
       "      <td>Date in which the \"Engaging\" deal stage was in...</td>\n",
       "    </tr>\n",
       "    <tr>\n",
       "      <th>19</th>\n",
       "      <td>sales_pipeline</td>\n",
       "      <td>close_date</td>\n",
       "      <td>Date in which the deal was \"Won\" or \"Lost\"</td>\n",
       "    </tr>\n",
       "    <tr>\n",
       "      <th>20</th>\n",
       "      <td>sales_pipeline</td>\n",
       "      <td>close_value</td>\n",
       "      <td>Revenue from the deal</td>\n",
       "    </tr>\n",
       "  </tbody>\n",
       "</table>\n",
       "</div>"
      ],
      "text/plain": [
       "             Table             Field  \\\n",
       "0         accounts           account   \n",
       "1         accounts            sector   \n",
       "2         accounts  year_established   \n",
       "3         accounts           revenue   \n",
       "4         accounts         employees   \n",
       "5         accounts   office_location   \n",
       "6         accounts     subsidiary_of   \n",
       "7         products           product   \n",
       "8         products            series   \n",
       "9         products       sales_price   \n",
       "10     sales_teams       sales_agent   \n",
       "11     sales_teams           manager   \n",
       "12     sales_teams   regional_office   \n",
       "13  sales_pipeline    opportunity_id   \n",
       "14  sales_pipeline       sales_agent   \n",
       "15  sales_pipeline           product   \n",
       "16  sales_pipeline           account   \n",
       "17  sales_pipeline        deal_stage   \n",
       "18  sales_pipeline       engage_date   \n",
       "19  sales_pipeline        close_date   \n",
       "20  sales_pipeline       close_value   \n",
       "\n",
       "                                          Description  \n",
       "0                                        Company name  \n",
       "1                                            Industry  \n",
       "2                                    Year Established  \n",
       "3                 Annual revenue (in millions of USD)  \n",
       "4                                 Number of employees  \n",
       "5                                        Headquarters  \n",
       "6                                      Parent company  \n",
       "7                                        Product name  \n",
       "8                                      Product series  \n",
       "9                              Suggested retail price  \n",
       "10                                        Sales agent  \n",
       "11                           Respective sales manager  \n",
       "12                                    Regional office  \n",
       "13                                  Unique identifier  \n",
       "14                                       Sales agent   \n",
       "15                                       Product name  \n",
       "16                                       Company name  \n",
       "17  Sales pipeline stage (Prospecting > Engaging >...  \n",
       "18  Date in which the \"Engaging\" deal stage was in...  \n",
       "19         Date in which the deal was \"Won\" or \"Lost\"  \n",
       "20                              Revenue from the deal  "
      ]
     },
     "execution_count": 13,
     "metadata": {},
     "output_type": "execute_result"
    }
   ],
   "source": [
    "pd.read_csv(\"data_dictionary.csv\")"
   ]
  },
  {
   "cell_type": "code",
   "execution_count": 15,
   "metadata": {},
   "outputs": [],
   "source": [
    "# Upload each DataFrame as a separate SQL table\n",
    "df1.to_sql(\"accounts\", engine, if_exists=\"replace\", index=False)\n",
    "df2.to_sql(\"products\", engine, if_exists=\"replace\", index=False)\n",
    "df3.to_sql(\"sales_pipeline\", engine, if_exists=\"replace\", index=False)\n",
    "df4.to_sql(\"sales_teams\", engine, if_exists=\"replace\", index=False)"
   ]
  },
  {
   "cell_type": "code",
   "execution_count": 11,
   "metadata": {},
   "outputs": [
    {
     "name": "stdout",
     "output_type": "stream",
     "text": [
      "CSV files uploaded as SQL tables successfully!\n"
     ]
    }
   ],
   "source": [
    "print(\"CSV files uploaded as SQL tables successfully!\")"
   ]
  },
  {
   "cell_type": "code",
   "execution_count": null,
   "metadata": {},
   "outputs": [],
   "source": []
  }
 ],
 "metadata": {
  "kernelspec": {
   "display_name": "Python 3",
   "language": "python",
   "name": "python3"
  },
  "language_info": {
   "codemirror_mode": {
    "name": "ipython",
    "version": 3
   },
   "file_extension": ".py",
   "mimetype": "text/x-python",
   "name": "python",
   "nbconvert_exporter": "python",
   "pygments_lexer": "ipython3",
   "version": "3.7.3"
  }
 },
 "nbformat": 4,
 "nbformat_minor": 2
}
