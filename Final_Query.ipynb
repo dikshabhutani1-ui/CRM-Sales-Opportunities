{
 "cells": [
  {
   "cell_type": "code",
   "execution_count": 2,
   "metadata": {},
   "outputs": [],
   "source": [
    "import pandas as pd\n",
    "from sqlalchemy import create_engine,func"
   ]
  },
  {
   "cell_type": "code",
   "execution_count": 3,
   "metadata": {},
   "outputs": [],
   "source": [
    "# Example: SQLite (change this to your DB)\n",
    "engine = create_engine(\"sqlite:///mydatabase.db\")  "
   ]
  },
  {
   "cell_type": "code",
   "execution_count": 4,
   "metadata": {},
   "outputs": [],
   "source": [
    "# 1. Deal stage='Won' consider krna chahiye"
   ]
  },
  {
   "cell_type": "markdown",
   "metadata": {},
   "source": [
    "#### How is each sales team performing compared to the rest?"
   ]
  },
  {
   "cell_type": "code",
   "execution_count": 5,
   "metadata": {},
   "outputs": [
    {
     "name": "stdout",
     "output_type": "stream",
     "text": [
      "            manager    Revenue  Revenue_Rank  Total_Leads  Leads_Rank  \\\n",
      "0     Melvin Marxen  2251930.0             1         1929           1   \n",
      "1     Summer Sewald  1964750.0             2         1701           2   \n",
      "2     Rocco Neubert  1960545.0             3         1327           4   \n",
      "3      Celia Rouche  1603897.0             4         1296           5   \n",
      "4        Cara Losch  1130049.0             5          964           6   \n",
      "5  Dustin Brinkmann  1094363.0             6         1583           3   \n",
      "\n",
      "   Conversion_Rate  Conversion_Rank  Average_Deal_Size  Deal_Size_Rank  \n",
      "0               45                6            1588.10               3  \n",
      "1               48                3            1526.61               4  \n",
      "2               52                1            1761.50               1  \n",
      "3               47                4            1667.25               2  \n",
      "4               49                2            1516.84               5  \n",
      "5               47                4             922.73               6  \n"
     ]
    }
   ],
   "source": [
    "query =\"\"\"WITH Manager_Data as (\n",
    "SELECT manager, ROUND(SUM(close_value),0) as Revenue,COUNT(opportunity_id) as Total_Leads,\n",
    "100*COUNT(CASE WHEN deal_stage = 'Won' THEN 1 END)/COUNT(opportunity_id) AS Conversion_Rate,\n",
    "ROUND(SUM(CASE WHEN deal_stage = 'Won' THEN close_value END)/SUM(CASE WHEN deal_stage = 'Won' THEN 1 END),2) \n",
    "as Average_Deal_Size\n",
    "FROM sales_teams t1 LEFT JOIN sales_pipeline t2 ON t1.sales_agent = t2.sales_agent\n",
    "group by t1.manager)\n",
    "\n",
    "SELECT manager,Revenue,RANK() OVER (ORDER BY Revenue DESC) as Revenue_Rank,Total_Leads,\n",
    "RANK() OVER (ORDER BY Total_Leads DESC) as Leads_Rank,Conversion_Rate,\n",
    "RANK() OVER (ORDER BY Conversion_Rate DESC) as Conversion_Rank,Average_Deal_Size,\n",
    "RANK() OVER (ORDER BY Average_Deal_Size DESC) as Deal_Size_Rank\n",
    "FROM Manager_Data\n",
    "\"\"\"\n",
    "\n",
    "with engine.connect() as conn:\n",
    "    df = pd.read_sql(query, conn)\n",
    "\n",
    "print(df)\n"
   ]
  },
  {
   "cell_type": "markdown",
   "metadata": {},
   "source": [
    "#### Are any sales agents lagging behind?"
   ]
  },
  {
   "cell_type": "code",
   "execution_count": 6,
   "metadata": {},
   "outputs": [
    {
     "name": "stdout",
     "output_type": "stream",
     "text": [
      "           sales_agent    Revenue  Revenue_Rank  Total_Leads  Leads_Rank  \\\n",
      "0      Darcel Schlecht  1153214.0             1          747           1   \n",
      "1       Vicki Laflamme   478396.0             2          451           2   \n",
      "2      Kary Hendrixson   454298.0             3          438           4   \n",
      "3         Cassey Cress   450489.0             4          346           8   \n",
      "4        Donn Cantrell   445860.0             5          275          16   \n",
      "5         Reed Clapper   438336.0             6          237          22   \n",
      "6            Zane Levy   430068.0             7          349           7   \n",
      "7        Corliss Cosme   421036.0             8          310          12   \n",
      "8       James Ascencio   413533.0             9          267          17   \n",
      "9      Daniell Hammack   364229.0            10          259          20   \n",
      "10     Maureen Marcano   350395.0            11          285          14   \n",
      "11    Gladys Colclough   345674.0            12          317          10   \n",
      "12      Markita Hansen   328792.0            13          306          13   \n",
      "13       Kami Bicknell   316456.0            14          362           5   \n",
      "14   Marty Freudenburg   291195.0            15          281          15   \n",
      "15        Elease Gluck   289195.0            16          177          26   \n",
      "16  Jonathan Berthelot   284886.0            17          345           9   \n",
      "17       Anna Snelling   275056.0            18          448           3   \n",
      "18       Hayden Neloms   272111.0            19          202          25   \n",
      "19           Boris Faz   261631.0            20          210          23   \n",
      "20     Rosalina Dieter   235403.0            21          160          27   \n",
      "21  Rosie Papadopoulos   230169.0            22          160          27   \n",
      "22      Cecily Lampkin   229800.0            23          203          24   \n",
      "23         Moses Frase   207182.0            24          260          19   \n",
      "24       Garret Kinder   197773.0            25          123          29   \n",
      "25     Lajuana Vencill   194632.0            26          311          11   \n",
      "26   Versie Hillebrand   187693.0            27          361           6   \n",
      "27     Niesha Huffines   176961.0            28          239          21   \n",
      "28      Wilburn Farren   157640.0            29          110          30   \n",
      "29    Violet Mclelland   123431.0            30          261          18   \n",
      "\n",
      "    Conversion_Rate  Conversion_Rank  Average_Deal_Size  Deal_Size_Rank  \n",
      "0                46               19            3304.34               2  \n",
      "1                49                9            2164.69              21  \n",
      "2                47               17            2173.67              20  \n",
      "3                47               17            2763.74              11  \n",
      "4                57                3            2821.90               9  \n",
      "5                65                1            2827.97               8  \n",
      "6                46               19            2671.23              12  \n",
      "7                48               12            2806.91              10  \n",
      "8                50                7            3063.21               5  \n",
      "9                44               25            3194.99               4  \n",
      "10               52                4            2351.64              19  \n",
      "11               42               28            2560.55              15  \n",
      "12               42               28            2529.17              17  \n",
      "13               48               12            1818.71              23  \n",
      "14               43               26            2386.84              18  \n",
      "15               45               23            3614.94               1  \n",
      "16               49                9            1666.00              25  \n",
      "17               46               19            1322.38              28  \n",
      "18               52                4            2543.09              16  \n",
      "19               48               12            2590.41              14  \n",
      "20               45               23            3269.49               3  \n",
      "21               48               12            2950.88               6  \n",
      "22               52                4            2147.66              22  \n",
      "23               49                9            1606.06              26  \n",
      "24               60                2            2636.97              13  \n",
      "25               40               30            1532.54              27  \n",
      "26               48               12            1066.44              29  \n",
      "27               43               26            1685.34              24  \n",
      "28               50                7            2866.18               7  \n",
      "29               46               19            1011.73              30  \n"
     ]
    }
   ],
   "source": [
    "query =\"\"\"WITH Agent_Data as (\n",
    "SELECT sales_agent, ROUND(SUM(close_value),0) as Revenue,COUNT(opportunity_id) as Total_Leads,\n",
    "100*COUNT(CASE WHEN deal_stage = 'Won' THEN 1 END)/COUNT(opportunity_id) AS Conversion_Rate,\n",
    "ROUND(SUM(CASE WHEN deal_stage = 'Won' THEN close_value END)/SUM(CASE WHEN deal_stage = 'Won' THEN 1 END),2) \n",
    "as Average_Deal_Size\n",
    "FROM sales_pipeline \n",
    "group by sales_agent)\n",
    "\n",
    "SELECT sales_agent,Revenue,RANK() OVER (ORDER BY Revenue DESC) as Revenue_Rank,Total_Leads,\n",
    "RANK() OVER (ORDER BY Total_Leads DESC) as Leads_Rank,Conversion_Rate,\n",
    "RANK() OVER (ORDER BY Conversion_Rate DESC) as Conversion_Rank,Average_Deal_Size,\n",
    "RANK() OVER (ORDER BY Average_Deal_Size DESC) as Deal_Size_Rank\n",
    "FROM Agent_Data\n",
    "\"\"\"\n",
    "\n",
    "with engine.connect() as conn:\n",
    "    df = pd.read_sql(query, conn)\n",
    "\n",
    "print(df)\n"
   ]
  },
  {
   "cell_type": "markdown",
   "metadata": {},
   "source": [
    "#### Do any products have better win rates?"
   ]
  },
  {
   "cell_type": "code",
   "execution_count": 33,
   "metadata": {},
   "outputs": [
    {
     "name": "stdout",
     "output_type": "stream",
     "text": [
      "          product  Win Rate\n",
      "0         GTK 500     37.50\n",
      "1       GTX Basic     49.04\n",
      "2  GTX Plus Basic     47.22\n",
      "3    GTX Plus Pro     49.48\n",
      "4          GTXPro     49.26\n",
      "5     MG Advanced     46.32\n",
      "6      MG Special     48.03\n"
     ]
    }
   ],
   "source": [
    "query =\"\"\"WITH Product_Data as (SELECT product,COUNT(CASE WHEN deal_stage = 'Won' THEN 1 END) as Deals_Won,\n",
    "COUNT(CASE WHEN deal_stage != 'Won' THEN 1 END) as Deals_Lost FROM sales_pipeline group by product)\n",
    "\n",
    "SELECT product,ROUND(100.0*Deals_Won/(Deals_Won+Deals_Lost),2) as Win Rate FROM Product_Data \n",
    " \"\"\"\n",
    "\n",
    "with engine.connect() as conn:\n",
    "    df = pd.read_sql(query, conn)\n",
    "\n",
    "print(df)\n"
   ]
  },
  {
   "cell_type": "markdown",
   "metadata": {},
   "source": [
    "#### Are there any quarter-over-quarter trends?"
   ]
  },
  {
   "cell_type": "code",
   "execution_count": 29,
   "metadata": {},
   "outputs": [
    {
     "name": "stdout",
     "output_type": "stream",
     "text": [
      "   quarter  QoQ_Change\n",
      "0        2      171.98\n",
      "1        3       -3.37\n",
      "2        4       -6.03\n"
     ]
    }
   ],
   "source": [
    "query =\"\"\"WITH Quarter_Data as (SELECT strftime('%Y', close_date) AS year,\n",
    "(((CAST(strftime('%m', close_date) AS INTEGER) - 1) / 3) + 1) AS quarter,\n",
    "SUM(close_value) as Revenue\n",
    "FROM sales_pipeline WHERE deal_stage = 'Won' GROUP BY year,quarter),\n",
    "Quarter_Lag_Data as (SELECT quarter,Revenue,IFNULL(LAG(Revenue) OVER (ORDER BY quarter),0) as Previous_Quarter_Revenue \n",
    "FROM Quarter_Data)\n",
    "SELECT quarter,ROUND(100*(Revenue-Previous_Quarter_Revenue)/Previous_Quarter_Revenue,2) as QoQ_Change \n",
    "FROM Quarter_Lag_Data WHERE Previous_Quarter_Revenue!=0\"\"\"\n",
    "\n",
    "with engine.connect() as conn:\n",
    "    df = pd.read_sql(query, conn)\n",
    "\n",
    "print(df)"
   ]
  }
 ],
 "metadata": {
  "kernelspec": {
   "display_name": "Python 3",
   "language": "python",
   "name": "python3"
  },
  "language_info": {
   "codemirror_mode": {
    "name": "ipython",
    "version": 3
   },
   "file_extension": ".py",
   "mimetype": "text/x-python",
   "name": "python",
   "nbconvert_exporter": "python",
   "pygments_lexer": "ipython3",
   "version": "3.7.3"
  }
 },
 "nbformat": 4,
 "nbformat_minor": 2
}
